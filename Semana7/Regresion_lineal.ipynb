{
  "nbformat": 4,
  "nbformat_minor": 0,
  "metadata": {
    "colab": {
      "name": "Regresión lineal.ipynb",
      "provenance": [],
      "collapsed_sections": [],
      "toc_visible": true,
      "mount_file_id": "1ZkIHUAKbqkomedO8PAKvYlVBQn0V7L12",
      "authorship_tag": "ABX9TyMWelPDleZ2YxPa1kBF4N8O",
      "include_colab_link": true
    },
    "kernelspec": {
      "name": "python3",
      "display_name": "Python 3"
    }
  },
  "cells": [
    {
      "cell_type": "markdown",
      "metadata": {
        "id": "view-in-github",
        "colab_type": "text"
      },
      "source": [
        "<a href=\"https://colab.research.google.com/github/AnIsAsPe/ElementosEstadisticaMachineLearningPython/blob/master/Regresi%C3%B3n_lineal.ipynb\" target=\"_parent\"><img src=\"https://colab.research.google.com/assets/colab-badge.svg\" alt=\"Open In Colab\"/></a>"
      ]
    },
    {
      "cell_type": "markdown",
      "metadata": {
        "id": "MOfWHxj0IdEz"
      },
      "source": [
        "## Cargar bibiliotecas"
      ]
    },
    {
      "cell_type": "code",
      "metadata": {
        "id": "Wkte1t1UpdqM"
      },
      "source": [
        "import pandas as pd\n",
        "import numpy as np\n",
        "\n",
        "from sklearn.model_selection import train_test_split \n",
        "\n",
        "from sklearn.preprocessing import StandardScaler\n",
        "from sklearn.linear_model import LinearRegression\n",
        "from sklearn import metrics\n",
        "import statsmodels.api as sm\n",
        "from scipy import stats\n",
        "\n",
        "import matplotlib.pyplot as plt \n",
        "import seaborn as sns  "
      ],
      "execution_count": 62,
      "outputs": []
    },
    {
      "cell_type": "markdown",
      "metadata": {
        "id": "IUh34hn1djfG"
      },
      "source": [
        "# Cargar datos\n",
        "\n",
        "Dataset\n",
        "M. Cassotti, D. Ballabio, V. Consonni, A. Mauri, I. V. Tetko, R. Todeschini (2014). Prediction of acute aquatic toxicity towards daphnia magna using GA-kNN method, Alternatives to Laboratory Animals (ATLA), 42,31:41; doi: 10.1177/026119291404200106"
      ]
    },
    {
      "cell_type": "code",
      "metadata": {
        "id": "vP_eKMyawPDl",
        "outputId": "1b63b901-5f1a-4a58-dd01-6acd0415007b",
        "colab": {
          "base_uri": "https://localhost:8080/",
          "height": 215
        }
      },
      "source": [
        "#dataset: \n",
        "datos = pd.read_csv('https://archive.ics.uci.edu/ml/machine-learning-databases/00505/qsar_aquatic_toxicity.csv',\n",
        "                    names=  ['TPSA(Tot)', 'SAacc', 'H-050', 'MLOGP', \n",
        "                             'RDCHI', 'GATS1p', 'nN', 'C-040','acuatic toxicity'],\n",
        "                    sep=\";\", header=None)\n",
        "                    \n",
        "print(datos.shape)\n",
        "datos.head()"
      ],
      "execution_count": 16,
      "outputs": [
        {
          "output_type": "stream",
          "text": [
            "(546, 9)\n"
          ],
          "name": "stdout"
        },
        {
          "output_type": "execute_result",
          "data": {
            "text/html": [
              "<div>\n",
              "<style scoped>\n",
              "    .dataframe tbody tr th:only-of-type {\n",
              "        vertical-align: middle;\n",
              "    }\n",
              "\n",
              "    .dataframe tbody tr th {\n",
              "        vertical-align: top;\n",
              "    }\n",
              "\n",
              "    .dataframe thead th {\n",
              "        text-align: right;\n",
              "    }\n",
              "</style>\n",
              "<table border=\"1\" class=\"dataframe\">\n",
              "  <thead>\n",
              "    <tr style=\"text-align: right;\">\n",
              "      <th></th>\n",
              "      <th>TPSA(Tot)</th>\n",
              "      <th>SAacc</th>\n",
              "      <th>H-050</th>\n",
              "      <th>MLOGP</th>\n",
              "      <th>RDCHI</th>\n",
              "      <th>GATS1p</th>\n",
              "      <th>nN</th>\n",
              "      <th>C-040</th>\n",
              "      <th>acuatic toxicity</th>\n",
              "    </tr>\n",
              "  </thead>\n",
              "  <tbody>\n",
              "    <tr>\n",
              "      <th>0</th>\n",
              "      <td>0.00</td>\n",
              "      <td>0.0</td>\n",
              "      <td>0</td>\n",
              "      <td>2.419</td>\n",
              "      <td>1.225</td>\n",
              "      <td>0.667</td>\n",
              "      <td>0</td>\n",
              "      <td>0</td>\n",
              "      <td>3.740</td>\n",
              "    </tr>\n",
              "    <tr>\n",
              "      <th>1</th>\n",
              "      <td>0.00</td>\n",
              "      <td>0.0</td>\n",
              "      <td>0</td>\n",
              "      <td>2.638</td>\n",
              "      <td>1.401</td>\n",
              "      <td>0.632</td>\n",
              "      <td>0</td>\n",
              "      <td>0</td>\n",
              "      <td>4.330</td>\n",
              "    </tr>\n",
              "    <tr>\n",
              "      <th>2</th>\n",
              "      <td>9.23</td>\n",
              "      <td>11.0</td>\n",
              "      <td>0</td>\n",
              "      <td>5.799</td>\n",
              "      <td>2.930</td>\n",
              "      <td>0.486</td>\n",
              "      <td>0</td>\n",
              "      <td>0</td>\n",
              "      <td>7.019</td>\n",
              "    </tr>\n",
              "    <tr>\n",
              "      <th>3</th>\n",
              "      <td>9.23</td>\n",
              "      <td>11.0</td>\n",
              "      <td>0</td>\n",
              "      <td>5.453</td>\n",
              "      <td>2.887</td>\n",
              "      <td>0.495</td>\n",
              "      <td>0</td>\n",
              "      <td>0</td>\n",
              "      <td>6.723</td>\n",
              "    </tr>\n",
              "    <tr>\n",
              "      <th>4</th>\n",
              "      <td>9.23</td>\n",
              "      <td>11.0</td>\n",
              "      <td>0</td>\n",
              "      <td>4.068</td>\n",
              "      <td>2.758</td>\n",
              "      <td>0.695</td>\n",
              "      <td>0</td>\n",
              "      <td>0</td>\n",
              "      <td>5.979</td>\n",
              "    </tr>\n",
              "  </tbody>\n",
              "</table>\n",
              "</div>"
            ],
            "text/plain": [
              "   TPSA(Tot)  SAacc  H-050  MLOGP  RDCHI  GATS1p  nN  C-040  acuatic toxicity\n",
              "0       0.00    0.0      0  2.419  1.225   0.667   0      0             3.740\n",
              "1       0.00    0.0      0  2.638  1.401   0.632   0      0             4.330\n",
              "2       9.23   11.0      0  5.799  2.930   0.486   0      0             7.019\n",
              "3       9.23   11.0      0  5.453  2.887   0.495   0      0             6.723\n",
              "4       9.23   11.0      0  4.068  2.758   0.695   0      0             5.979"
            ]
          },
          "metadata": {
            "tags": []
          },
          "execution_count": 16
        }
      ]
    },
    {
      "cell_type": "code",
      "metadata": {
        "id": "NSGFObTP2JFH",
        "outputId": "be89482c-7d60-4dfe-99a4-a31bfe5dfdd9",
        "colab": {
          "base_uri": "https://localhost:8080/",
          "height": 270
        }
      },
      "source": [
        "plt.figure(figsize=(5,4))\n",
        "sns.boxplot(y='acuatic toxicity', data=datos)"
      ],
      "execution_count": 17,
      "outputs": [
        {
          "output_type": "execute_result",
          "data": {
            "text/plain": [
              "<matplotlib.axes._subplots.AxesSubplot at 0x7fb08b75f400>"
            ]
          },
          "metadata": {
            "tags": []
          },
          "execution_count": 17
        },
        {
          "output_type": "display_data",
          "data": {
            "image/png": "[encoded data removed]",
            "text/plain": [
              "<Figure size 360x288 with 1 Axes>"
            ]
          },
          "metadata": {
            "tags": [],
            "needs_background": "light"
          }
        }
      ]
    },
    {
      "cell_type": "code",
      "metadata": {
        "id": "VehaFlgGQCTN",
        "outputId": "dce1f707-7917-4937-cd09-3c282e7fd24e",
        "colab": {
          "base_uri": "https://localhost:8080/",
          "height": 278
        }
      },
      "source": [
        "plt.figure(figsize=(7,4))\n",
        "sns.histplot(x='acuatic toxicity', data=datos, bins=30 )\n",
        "plt.show()"
      ],
      "execution_count": 19,
      "outputs": [
        {
          "output_type": "display_data",
          "data": {
            "image/png": "[encoded data removed]",
            "text/plain": [
              "<Figure size 504x288 with 1 Axes>"
            ]
          },
          "metadata": {
            "tags": [],
            "needs_background": "light"
          }
        }
      ]
    },
    {
      "cell_type": "code",
      "metadata": {
        "id": "Z58ZKbpMg0LF",
        "outputId": "ba86db4d-fdb1-4624-aae3-1cb1ce61d01c",
        "colab": {
          "base_uri": "https://localhost:8080/"
        }
      },
      "source": [
        "datos.info()"
      ],
      "execution_count": 20,
      "outputs": [
        {
          "output_type": "stream",
          "text": [
            "<class 'pandas.core.frame.DataFrame'>\n",
            "RangeIndex: 546 entries, 0 to 545\n",
            "Data columns (total 9 columns):\n",
            " #   Column            Non-Null Count  Dtype  \n",
            "---  ------            --------------  -----  \n",
            " 0   TPSA(Tot)         546 non-null    float64\n",
            " 1   SAacc             546 non-null    float64\n",
            " 2   H-050             546 non-null    int64  \n",
            " 3   MLOGP             546 non-null    float64\n",
            " 4   RDCHI             546 non-null    float64\n",
            " 5   GATS1p            546 non-null    float64\n",
            " 6   nN                546 non-null    int64  \n",
            " 7   C-040             546 non-null    int64  \n",
            " 8   acuatic toxicity  546 non-null    float64\n",
            "dtypes: float64(6), int64(3)\n",
            "memory usage: 38.5 KB\n"
          ],
          "name": "stdout"
        }
      ]
    },
    {
      "cell_type": "markdown",
      "metadata": {
        "id": "DkjIWWSzTxkZ"
      },
      "source": [
        "# Separar datos en características y variable a predecir"
      ]
    },
    {
      "cell_type": "code",
      "metadata": {
        "id": "Zwh5zPJp9d25"
      },
      "source": [
        "y = datos['acuatic toxicity']\n",
        "X = datos.drop('acuatic toxicity', axis=1)"
      ],
      "execution_count": 28,
      "outputs": []
    },
    {
      "cell_type": "markdown",
      "metadata": {
        "id": "pSB61lQ1BYJa"
      },
      "source": [
        "# Normalizar las caractísticas"
      ]
    },
    {
      "cell_type": "code",
      "metadata": {
        "id": "RZf7mBFTT1Jw"
      },
      "source": [
        "X_estandarizados=X.copy()\n",
        "columnas = X.columns\n",
        "\n",
        "scaler = StandardScaler()\n",
        "\n",
        "X_estandarizados[columnas] = scaler.fit_transform(X[columnas])"
      ],
      "execution_count": 46,
      "outputs": []
    },
    {
      "cell_type": "code",
      "metadata": {
        "id": "4yXmcL9JEzaX",
        "outputId": "0fa73779-38fd-4586-b0f0-6a1a7a17aa50",
        "colab": {
          "base_uri": "https://localhost:8080/",
          "height": 305
        }
      },
      "source": [
        "regresion = LinearRegression().fit(X_estandarizados, y)\n",
        "y_pred=regresion.predict(X_estandarizados)\n",
        "\n",
        "coeficientes = pd.DataFrame({'coef':regresion.coef_,\n",
        "                             'variable':list(columnas)})\n",
        "coeficientes = coeficientes.sort_values('coef').reset_index(drop=True)\n",
        "print('Intersept:', regresion.intercept_)\n",
        "coeficientes"
      ],
      "execution_count": 60,
      "outputs": [
        {
          "output_type": "stream",
          "text": [
            "Intersept: 4.658421245421245\n"
          ],
          "name": "stdout"
        },
        {
          "output_type": "execute_result",
          "data": {
            "text/html": [
              "<div>\n",
              "<style scoped>\n",
              "    .dataframe tbody tr th:only-of-type {\n",
              "        vertical-align: middle;\n",
              "    }\n",
              "\n",
              "    .dataframe tbody tr th {\n",
              "        vertical-align: top;\n",
              "    }\n",
              "\n",
              "    .dataframe thead th {\n",
              "        text-align: right;\n",
              "    }\n",
              "</style>\n",
              "<table border=\"1\" class=\"dataframe\">\n",
              "  <thead>\n",
              "    <tr style=\"text-align: right;\">\n",
              "      <th></th>\n",
              "      <th>coef</th>\n",
              "      <th>variable</th>\n",
              "    </tr>\n",
              "  </thead>\n",
              "  <tbody>\n",
              "    <tr>\n",
              "      <th>0</th>\n",
              "      <td>-1.027069</td>\n",
              "      <td>SAacc</td>\n",
              "    </tr>\n",
              "    <tr>\n",
              "      <th>1</th>\n",
              "      <td>-0.313743</td>\n",
              "      <td>nN</td>\n",
              "    </tr>\n",
              "    <tr>\n",
              "      <th>2</th>\n",
              "      <td>-0.230415</td>\n",
              "      <td>GATS1p</td>\n",
              "    </tr>\n",
              "    <tr>\n",
              "      <th>3</th>\n",
              "      <td>0.002575</td>\n",
              "      <td>C-040</td>\n",
              "    </tr>\n",
              "    <tr>\n",
              "      <th>4</th>\n",
              "      <td>0.065686</td>\n",
              "      <td>H-050</td>\n",
              "    </tr>\n",
              "    <tr>\n",
              "      <th>5</th>\n",
              "      <td>0.416416</td>\n",
              "      <td>RDCHI</td>\n",
              "    </tr>\n",
              "    <tr>\n",
              "      <th>6</th>\n",
              "      <td>0.776318</td>\n",
              "      <td>MLOGP</td>\n",
              "    </tr>\n",
              "    <tr>\n",
              "      <th>7</th>\n",
              "      <td>1.270851</td>\n",
              "      <td>TPSA(Tot)</td>\n",
              "    </tr>\n",
              "  </tbody>\n",
              "</table>\n",
              "</div>"
            ],
            "text/plain": [
              "       coef   variable\n",
              "0 -1.027069      SAacc\n",
              "1 -0.313743         nN\n",
              "2 -0.230415     GATS1p\n",
              "3  0.002575      C-040\n",
              "4  0.065686      H-050\n",
              "5  0.416416      RDCHI\n",
              "6  0.776318      MLOGP\n",
              "7  1.270851  TPSA(Tot)"
            ]
          },
          "metadata": {
            "tags": []
          },
          "execution_count": 60
        }
      ]
    },
    {
      "cell_type": "code",
      "metadata": {
        "id": "kEnzP21GNxMu",
        "outputId": "63a8f66d-5707-41be-efe7-0ba7de8be06c",
        "colab": {
          "base_uri": "https://localhost:8080/",
          "height": 393
        }
      },
      "source": [
        "from yellowbrick.regressor import ResidualsPlot\n",
        "visualizer = ResidualsPlot(LinearRegression())\n",
        "visualizer.fit(X_estandarizados, y)\n",
        "visualizer.show()                "
      ],
      "execution_count": 68,
      "outputs": [
        {
          "output_type": "display_data",
          "data": {
            "image/png": "[encoded data removed]",
            "text/plain": [
              "<Figure size 576x396 with 2 Axes>"
            ]
          },
          "metadata": {
            "tags": []
          }
        },
        {
          "output_type": "execute_result",
          "data": {
            "text/plain": [
              "<matplotlib.axes._subplots.AxesSubplot at 0x7fb07a4797b8>"
            ]
          },
          "metadata": {
            "tags": []
          },
          "execution_count": 68
        }
      ]
    },
    {
      "cell_type": "code",
      "metadata": {
        "id": "qVfkC8E_Oxe-",
        "outputId": "46f4043d-66c8-4280-9c11-df31e6578062",
        "colab": {
          "base_uri": "https://localhost:8080/",
          "height": 448
        }
      },
      "source": [
        "from yellowbrick.regressor import CooksDistance\n",
        "\n",
        "visualizer = CooksDistance()\n",
        "visualizer.fit(X_estandarizados, y)\n",
        "visualizer.show()  \n"
      ],
      "execution_count": 71,
      "outputs": [
        {
          "output_type": "stream",
          "text": [
            "/usr/local/lib/python3.6/dist-packages/sklearn/base.py:197: FutureWarning: From version 0.24, get_params will raise an AttributeError if a parameter cannot be retrieved as an instance attribute. Previously it would return None.\n",
            "  FutureWarning)\n"
          ],
          "name": "stderr"
        },
        {
          "output_type": "display_data",
          "data": {
            "image/png": "[encoded data removed]",
            "text/plain": [
              "<Figure size 576x396 with 1 Axes>"
            ]
          },
          "metadata": {
            "tags": []
          }
        },
        {
          "output_type": "execute_result",
          "data": {
            "text/plain": [
              "<matplotlib.axes._subplots.AxesSubplot at 0x7fb07a261e48>"
            ]
          },
          "metadata": {
            "tags": []
          },
          "execution_count": 71
        }
      ]
    },
    {
      "cell_type": "code",
      "metadata": {
        "id": "p10EaotnBxyQ"
      },
      "source": [
        ""
      ],
      "execution_count": 61,
      "outputs": []
    },
    {
      "cell_type": "code",
      "metadata": {
        "id": "Luz_ZpObChH0",
        "outputId": "a064f143-d295-42bc-81b6-2da44dd703d9",
        "colab": {
          "base_uri": "https://localhost:8080/"
        }
      },
      "source": [
        "X_a = X_estandarizados\n",
        "X_a['constant'] = 1\n",
        "modelo = sm.OLS( y, X_a).fit()\n",
        "print(modelo.summary())"
      ],
      "execution_count": 63,
      "outputs": [
        {
          "output_type": "stream",
          "text": [
            "                            OLS Regression Results                            \n",
            "==============================================================================\n",
            "Dep. Variable:       acuatic toxicity   R-squared:                       0.486\n",
            "Model:                            OLS   Adj. R-squared:                  0.478\n",
            "Method:                 Least Squares   F-statistic:                     63.50\n",
            "Date:                Tue, 03 Nov 2020   Prob (F-statistic):           8.83e-73\n",
            "Time:                        03:25:47   Log-Likelihood:                -870.91\n",
            "No. Observations:                 546   AIC:                             1760.\n",
            "Df Residuals:                     537   BIC:                             1799.\n",
            "Df Model:                           8                                         \n",
            "Covariance Type:            nonrobust                                         \n",
            "==============================================================================\n",
            "                 coef    std err          t      P>|t|      [0.025      0.975]\n",
            "------------------------------------------------------------------------------\n",
            "TPSA(Tot)      1.2709      0.124     10.220      0.000       1.027       1.515\n",
            "SAacc         -1.0271      0.142     -7.211      0.000      -1.307      -0.747\n",
            "H-050          0.0657      0.097      0.679      0.497      -0.124       0.256\n",
            "MLOGP          0.7763      0.110      7.048      0.000       0.560       0.993\n",
            "RDCHI          0.4164      0.110      3.791      0.000       0.201       0.632\n",
            "GATS1p        -0.2304      0.062     -3.713      0.000      -0.352      -0.109\n",
            "nN            -0.3137      0.067     -4.653      0.000      -0.446      -0.181\n",
            "C-040          0.0026      0.063      0.041      0.967      -0.121       0.126\n",
            "constant       4.6584      0.051     90.517      0.000       4.557       4.760\n",
            "==============================================================================\n",
            "Omnibus:                       47.289   Durbin-Watson:                   1.734\n",
            "Prob(Omnibus):                  0.000   Jarque-Bera (JB):               69.877\n",
            "Skew:                           0.626   Prob(JB):                     6.70e-16\n",
            "Kurtosis:                       4.226   Cond. No.                         6.76\n",
            "==============================================================================\n",
            "\n",
            "Warnings:\n",
            "[1] Standard Errors assume that the covariance matrix of the errors is correctly specified.\n"
          ],
          "name": "stdout"
        }
      ]
    },
    {
      "cell_type": "markdown",
      "metadata": {
        "id": "xynjq9w-KH_s"
      },
      "source": [
        "https://www.accelebrate.com/blog/interpreting-results-from-linear-regression-is-the-data-appropriate\n",
        "\n",
        "https://towardsdatascience.com/the-complete-guide-to-linear-regression-in-python-3d3f8f06bf8\n",
        "\n"
      ]
    },
    {
      "cell_type": "code",
      "metadata": {
        "id": "8RAjh0frTsNX"
      },
      "source": [
        ""
      ],
      "execution_count": null,
      "outputs": []
    }
  ]
}
